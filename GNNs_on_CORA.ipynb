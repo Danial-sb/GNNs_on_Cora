{
  "nbformat": 4,
  "nbformat_minor": 0,
  "metadata": {
    "colab": {
      "provenance": [],
      "authorship_tag": "ABX9TyNN0WpY5jz7sVUIkiEF9plQ",
      "include_colab_link": true
    },
    "kernelspec": {
      "name": "python3",
      "display_name": "Python 3"
    },
    "language_info": {
      "name": "python"
    }
  },
  "cells": [
    {
      "cell_type": "markdown",
      "metadata": {
        "id": "view-in-github",
        "colab_type": "text"
      },
      "source": [
        "<a href=\"https://colab.research.google.com/github/Danial-sb/GNNs_on_Cora/blob/main/GNNs_on_CORA.ipynb\" target=\"_parent\"><img src=\"https://colab.research.google.com/assets/colab-badge.svg\" alt=\"Open In Colab\"/></a>"
      ]
    },
    {
      "cell_type": "markdown",
      "source": [
        "The objective of this notebook is to perform three models (**MLP**, **GCN**, **and GraphSAGE**) \n",
        "using the Cora dataset for node prediction. As a result, we will be able to observe that applying graph neural networks yields much higher accuracy than simply using MLPs."
      ],
      "metadata": {
        "id": "aqPDDQguDf6Y"
      }
    },
    {
      "cell_type": "markdown",
      "source": [
        "### **What is Cora?**\n",
        "\n",
        "The Cora dataset consists of 2708 scientific publications classified into one of seven classes. The citation network consists of 5429 links. Each publication in the dataset is described by a 0/1-valued word vector indicating the absence/presence of the corresponding word from the dictionary. The dictionary consists of 1433 unique words.\n",
        "\n",
        "- Nodes = Publications\n",
        "- Edges = Citations\n",
        "- Node Features = word vectors (Bag of Words)\n",
        "- 7 Labels = Pubilcation type\n",
        "\n",
        "###### Source: https://paperswithcode.com/dataset/cora"
      ],
      "metadata": {
        "id": "C2hklosREEcS"
      }
    },
    {
      "cell_type": "code",
      "source": [
        "import torch\n",
        "import torch.nn.functional as F\n",
        "import matplotlib.pyplot as plt\n",
        "print(torch.__version__)"
      ],
      "metadata": {
        "colab": {
          "base_uri": "https://localhost:8080/"
        },
        "id": "JVH7ucpQEdLt",
        "outputId": "442e6279-940a-43ba-8295-c74a9a95b31e"
      },
      "execution_count": 1,
      "outputs": [
        {
          "output_type": "stream",
          "name": "stdout",
          "text": [
            "1.12.1+cu113\n"
          ]
        }
      ]
    },
    {
      "cell_type": "code",
      "source": [
        "!pip install -q torch-scatter -f https://data.pyg.org/whl/torch-1.12.1+cu113.html\n",
        "!pip install -q torch-sparse -f https://data.pyg.org/whl/torch-1.12.1+cu113.html\n",
        "!pip install -q git+https://github.com/pyg-team/pytorch_geometric.git"
      ],
      "metadata": {
        "colab": {
          "base_uri": "https://localhost:8080/"
        },
        "id": "0n2ySpndEwK0",
        "outputId": "d9270dc1-73ec-4d5e-a249-40e819f71d46"
      },
      "execution_count": 2,
      "outputs": [
        {
          "output_type": "stream",
          "name": "stdout",
          "text": [
            "\u001b[K     |████████████████████████████████| 7.9 MB 26.1 MB/s \n",
            "\u001b[K     |████████████████████████████████| 3.5 MB 25.6 MB/s \n",
            "\u001b[?25h  Building wheel for torch-geometric (setup.py) ... \u001b[?25l\u001b[?25hdone\n"
          ]
        }
      ]
    },
    {
      "cell_type": "code",
      "source": [
        "from torch_geometric.datasets import Planetoid\n",
        "from torch_geometric.transforms import NormalizeFeatures\n",
        "\n",
        "dataset = Planetoid(root='./Planetoid', name='Cora', transform=NormalizeFeatures())"
      ],
      "metadata": {
        "colab": {
          "base_uri": "https://localhost:8080/"
        },
        "id": "GJonp1agE51R",
        "outputId": "80a82756-bdef-4bf2-d446-f05d9ea598c0"
      },
      "execution_count": 3,
      "outputs": [
        {
          "output_type": "stream",
          "name": "stderr",
          "text": [
            "Downloading https://github.com/kimiyoung/planetoid/raw/master/data/ind.cora.x\n",
            "Downloading https://github.com/kimiyoung/planetoid/raw/master/data/ind.cora.tx\n",
            "Downloading https://github.com/kimiyoung/planetoid/raw/master/data/ind.cora.allx\n",
            "Downloading https://github.com/kimiyoung/planetoid/raw/master/data/ind.cora.y\n",
            "Downloading https://github.com/kimiyoung/planetoid/raw/master/data/ind.cora.ty\n",
            "Downloading https://github.com/kimiyoung/planetoid/raw/master/data/ind.cora.ally\n",
            "Downloading https://github.com/kimiyoung/planetoid/raw/master/data/ind.cora.graph\n",
            "Downloading https://github.com/kimiyoung/planetoid/raw/master/data/ind.cora.test.index\n",
            "Processing...\n",
            "Done!\n"
          ]
        }
      ]
    },
    {
      "cell_type": "code",
      "source": [
        "print(f'Number of graphs in the dataset: {len(dataset)}')\n",
        "print(f'Number of features in the dataset: {dataset.num_features}')\n",
        "print(f'Number of classes in the dataset: {dataset.num_classes}')"
      ],
      "metadata": {
        "colab": {
          "base_uri": "https://localhost:8080/"
        },
        "id": "PaoUptIsGUQ0",
        "outputId": "c07b1f6c-7cd3-46c4-bc98-fa098c5a659c"
      },
      "execution_count": 4,
      "outputs": [
        {
          "output_type": "stream",
          "name": "stdout",
          "text": [
            "Number of graphs in the dataset: 1\n",
            "Number of features in the dataset: 1433\n",
            "Number of classes in the dataset: 7\n"
          ]
        }
      ]
    },
    {
      "cell_type": "code",
      "source": [
        "data = dataset[0]\n",
        "\n",
        "print(data)\n",
        "print(f'Number of nodes: {data.num_nodes}')\n",
        "print(f'Number of edges: {data.num_edges}')\n",
        "print(f'Number of nodes that will be trained: {data.train_mask.sum()}')  #Available nodes for training.\n",
        "print(f'{data.train_mask.sum()} out of {data.num_nodes} are trainable.')"
      ],
      "metadata": {
        "colab": {
          "base_uri": "https://localhost:8080/"
        },
        "id": "Ww3S-bU6HV0l",
        "outputId": "00ca78de-2501-4f63-8205-632302706b7c"
      },
      "execution_count": 5,
      "outputs": [
        {
          "output_type": "stream",
          "name": "stdout",
          "text": [
            "Data(x=[2708, 1433], edge_index=[2, 10556], y=[2708], train_mask=[2708], val_mask=[2708], test_mask=[2708])\n",
            "Number of nodes: 2708\n",
            "Number of edges: 10556\n",
            "Number of nodes that will be trained: 140\n",
            "140 out of 2708 are trainable.\n"
          ]
        }
      ]
    },
    {
      "cell_type": "code",
      "source": [
        "data.x[0, :50]"
      ],
      "metadata": {
        "colab": {
          "base_uri": "https://localhost:8080/"
        },
        "id": "y7QS5kq7Jwqq",
        "outputId": "9654f986-4d2a-41cb-bcca-20934401ec0c"
      },
      "execution_count": 6,
      "outputs": [
        {
          "output_type": "execute_result",
          "data": {
            "text/plain": [
              "tensor([0.0000, 0.0000, 0.0000, 0.0000, 0.0000, 0.0000, 0.0000, 0.0000, 0.0000,\n",
              "        0.0000, 0.0000, 0.0000, 0.0000, 0.0000, 0.0000, 0.0000, 0.0000, 0.0000,\n",
              "        0.0000, 0.1111, 0.0000, 0.0000, 0.0000, 0.0000, 0.0000, 0.0000, 0.0000,\n",
              "        0.0000, 0.0000, 0.0000, 0.0000, 0.0000, 0.0000, 0.0000, 0.0000, 0.0000,\n",
              "        0.0000, 0.0000, 0.0000, 0.0000, 0.0000, 0.0000, 0.0000, 0.0000, 0.0000,\n",
              "        0.0000, 0.0000, 0.0000, 0.0000, 0.0000])"
            ]
          },
          "metadata": {},
          "execution_count": 6
        }
      ]
    },
    {
      "cell_type": "code",
      "source": [
        "data.y"
      ],
      "metadata": {
        "colab": {
          "base_uri": "https://localhost:8080/"
        },
        "id": "9psI31NOKaca",
        "outputId": "9979de4b-ba44-4d05-8115-683031c9510a"
      },
      "execution_count": 7,
      "outputs": [
        {
          "output_type": "execute_result",
          "data": {
            "text/plain": [
              "tensor([3, 4, 4,  ..., 3, 3, 3])"
            ]
          },
          "metadata": {},
          "execution_count": 7
        }
      ]
    },
    {
      "cell_type": "code",
      "source": [
        "#adjacency information\n",
        "data.edge_index.t()"
      ],
      "metadata": {
        "colab": {
          "base_uri": "https://localhost:8080/"
        },
        "id": "KbI2AvlpL2BL",
        "outputId": "5fa0ff77-9367-4426-f0eb-49ec4ace4302"
      },
      "execution_count": 8,
      "outputs": [
        {
          "output_type": "execute_result",
          "data": {
            "text/plain": [
              "tensor([[   0,  633],\n",
              "        [   0, 1862],\n",
              "        [   0, 2582],\n",
              "        ...,\n",
              "        [2707,  598],\n",
              "        [2707, 1473],\n",
              "        [2707, 2706]])"
            ]
          },
          "metadata": {},
          "execution_count": 8
        }
      ]
    },
    {
      "cell_type": "code",
      "source": [
        "class MLP(torch.nn.Module):\n",
        "  def __init__(self, input_size, hidden_size, output_size):\n",
        "    super(MLP, self).__init__()\n",
        "\n",
        "    self.input_size = input_size\n",
        "    self.hidden_size = hidden_size\n",
        "    self.output_size = output_size\n",
        "\n",
        "    self.lin1 = torch.nn.Linear(input_size, hidden_size)\n",
        "    self.lin2 = torch.nn.Linear(hidden_size, output_size)\n",
        "\n",
        "  def forward(self, x):\n",
        "    x = self.lin1(x)\n",
        "    x = F.relu(x)\n",
        "    x = F.dropout(x, p=0.2, training=self.training)\n",
        "    x = self.lin2(x)\n",
        "\n",
        "    return x"
      ],
      "metadata": {
        "id": "yKn_syzHMgHF"
      },
      "execution_count": 9,
      "outputs": []
    },
    {
      "cell_type": "code",
      "source": [
        "model_mlp = MLP(dataset.num_features, 32, dataset.num_classes)\n",
        "print(model_mlp)"
      ],
      "metadata": {
        "colab": {
          "base_uri": "https://localhost:8080/"
        },
        "id": "THrpXG_9Pc9c",
        "outputId": "5162abce-376a-42f9-a4bd-e39df0aba78b"
      },
      "execution_count": null,
      "outputs": [
        {
          "output_type": "stream",
          "name": "stdout",
          "text": [
            "MLP(\n",
            "  (lin1): Linear(in_features=1433, out_features=32, bias=True)\n",
            "  (lin2): Linear(in_features=32, out_features=7, bias=True)\n",
            ")\n"
          ]
        }
      ]
    },
    {
      "cell_type": "code",
      "source": [
        "model_mlp = MLP(dataset.num_features, 32, dataset.num_classes)\n",
        "criterion = torch.nn.CrossEntropyLoss()\n",
        "optimizer = torch.optim.Adam(model_mlp.parameters(), lr=0.01, weight_decay=5e-4)\n",
        "\n",
        "def train():\n",
        "      model_mlp.train()\n",
        "      optimizer.zero_grad()\n",
        "      out = model_mlp(data.x)\n",
        "      # Compute loss on trainable nodes (mask)\n",
        "      loss = criterion(out[data.train_mask], data.y[data.train_mask])\n",
        "      loss.backward()\n",
        "      optimizer.step()\n",
        "      pred = out.argmax(dim=1)\n",
        "      correct = pred[data.train_mask] == data.y[data.train_mask]\n",
        "      acc = int(correct.sum()) / int(data.train_mask.sum())\n",
        "      val_correct = pred[data.val_mask] == data.y[data.val_mask]\n",
        "      val = int(val_correct.sum()) / int(data.val_mask.sum())\n",
        "      return acc, loss, val\n",
        "\n",
        "def test():\n",
        "      model_mlp.eval()\n",
        "      out = model_mlp(data.x)\n",
        "      pred = out.argmax(dim=1)\n",
        "      test_correct = pred[data.test_mask] == data.y[data.test_mask]\n",
        "      test_acc = int(test_correct.sum()) / int(data.test_mask.sum())\n",
        "      return test_acc\n",
        "\n",
        "losses = []\n",
        "accuracy = []\n",
        "val_accuracy = []\n",
        "for epoch in range(0, 201):\n",
        "    acc, loss, val = train()\n",
        "    losses.append(loss)\n",
        "    accuracy.append(acc)\n",
        "    val_accuracy.append(val)\n",
        "    if epoch % 10 == 0:\n",
        "      print(f'Epoch: {epoch}, Loss: {loss:.4f}, Train_acc: {acc:.4f}, val_accuracy: {val:.4f}')"
      ],
      "metadata": {
        "colab": {
          "base_uri": "https://localhost:8080/"
        },
        "id": "ER4QzlaVOPoV",
        "outputId": "d9a90bc2-a0cf-4b50-ca81-046358ded090"
      },
      "execution_count": 93,
      "outputs": [
        {
          "output_type": "stream",
          "name": "stdout",
          "text": [
            "Epoch: 0, Loss: 1.9524, Train_acc: 0.1500, val_accuracy: 0.2940\n",
            "Epoch: 10, Loss: 1.8296, Train_acc: 0.9143, val_accuracy: 0.3140\n",
            "Epoch: 20, Loss: 1.5293, Train_acc: 0.9786, val_accuracy: 0.3840\n",
            "Epoch: 30, Loss: 1.0685, Train_acc: 0.9929, val_accuracy: 0.4580\n",
            "Epoch: 40, Loss: 0.6953, Train_acc: 0.9857, val_accuracy: 0.4820\n",
            "Epoch: 50, Loss: 0.3966, Train_acc: 1.0000, val_accuracy: 0.4960\n",
            "Epoch: 60, Loss: 0.2807, Train_acc: 1.0000, val_accuracy: 0.5180\n",
            "Epoch: 70, Loss: 0.2600, Train_acc: 0.9929, val_accuracy: 0.5080\n",
            "Epoch: 80, Loss: 0.2466, Train_acc: 0.9929, val_accuracy: 0.5040\n",
            "Epoch: 90, Loss: 0.2060, Train_acc: 1.0000, val_accuracy: 0.5160\n",
            "Epoch: 100, Loss: 0.1760, Train_acc: 1.0000, val_accuracy: 0.5340\n",
            "Epoch: 110, Loss: 0.1634, Train_acc: 1.0000, val_accuracy: 0.5440\n",
            "Epoch: 120, Loss: 0.1519, Train_acc: 1.0000, val_accuracy: 0.5060\n",
            "Epoch: 130, Loss: 0.1510, Train_acc: 1.0000, val_accuracy: 0.5560\n",
            "Epoch: 140, Loss: 0.1284, Train_acc: 1.0000, val_accuracy: 0.5480\n",
            "Epoch: 150, Loss: 0.1192, Train_acc: 1.0000, val_accuracy: 0.5220\n",
            "Epoch: 160, Loss: 0.1249, Train_acc: 1.0000, val_accuracy: 0.5380\n",
            "Epoch: 170, Loss: 0.1155, Train_acc: 1.0000, val_accuracy: 0.5360\n",
            "Epoch: 180, Loss: 0.1106, Train_acc: 1.0000, val_accuracy: 0.5460\n",
            "Epoch: 190, Loss: 0.1062, Train_acc: 1.0000, val_accuracy: 0.5480\n",
            "Epoch: 200, Loss: 0.1099, Train_acc: 1.0000, val_accuracy: 0.5580\n"
          ]
        }
      ]
    },
    {
      "cell_type": "code",
      "source": [
        "test_acc = test()\n",
        "print(f'Test Accuracy: {test_acc:.4f}')"
      ],
      "metadata": {
        "colab": {
          "base_uri": "https://localhost:8080/"
        },
        "id": "CtivfMFeS6_1",
        "outputId": "b879f294-8ad4-4bb7-c12b-3abf0391b790"
      },
      "execution_count": 94,
      "outputs": [
        {
          "output_type": "stream",
          "name": "stdout",
          "text": [
            "Test Accuracy: 0.5990\n"
          ]
        }
      ]
    },
    {
      "cell_type": "code",
      "source": [
        "losses_float = [float(loss.cpu().detach().numpy()) for loss in losses]\n",
        "loss_indices = [i for i,l in enumerate(losses_float)] \n",
        "sns.lineplot(loss_indices, losses_float)\n",
        "plt.title(\"Loss MLP\")\n",
        "plt.show()"
      ],
      "metadata": {
        "colab": {
          "base_uri": "https://localhost:8080/",
          "height": 337
        },
        "id": "bIGxvFquuPK2",
        "outputId": "95c27e7b-f060-4e26-e17a-fe21bb506a16"
      },
      "execution_count": 95,
      "outputs": [
        {
          "output_type": "stream",
          "name": "stderr",
          "text": [
            "/usr/local/lib/python3.7/dist-packages/seaborn/_decorators.py:43: FutureWarning: Pass the following variables as keyword args: x, y. From version 0.12, the only valid positional argument will be `data`, and passing other arguments without an explicit keyword will result in an error or misinterpretation.\n",
            "  FutureWarning\n"
          ]
        },
        {
          "output_type": "display_data",
          "data": {
            "text/plain": [
              "<Figure size 432x288 with 1 Axes>"
            ],
            "image/png": "[encoded data removed]"
          },
          "metadata": {
            "needs_background": "light"
          }
        }
      ]
    },
    {
      "cell_type": "code",
      "source": [
        "plt.plot(accuracy, c = 'red', label = \"train_acc\")\n",
        "plt.plot(val_accuracy, c = 'blue', label = \"val_acc\")\n",
        "plt.legend()\n",
        "plt.title(\"Accuracy_MLP\")\n",
        "plt.show()"
      ],
      "metadata": {
        "colab": {
          "base_uri": "https://localhost:8080/",
          "height": 281
        },
        "id": "gcsF5kaJ03ua",
        "outputId": "263849f6-ab43-4ccf-cbd0-03be322ab6ff"
      },
      "execution_count": 96,
      "outputs": [
        {
          "output_type": "display_data",
          "data": {
            "text/plain": [
              "<Figure size 432x288 with 1 Axes>"
            ],
            "image/png": "[encoded data removed]"
          },
          "metadata": {
            "needs_background": "light"
          }
        }
      ]
    },
    {
      "cell_type": "code",
      "source": [
        "from torch_geometric.nn.conv.gcn_conv import GCNConv\n",
        "from torch.nn import BatchNorm1d\n",
        "\n",
        "class GCN(torch.nn.Module):\n",
        "  def __init__(self, input_size, hidden_size, output_size):\n",
        "     super(GCN, self).__init__()\n",
        "     \n",
        "     self.input_size = input_size\n",
        "     self.hidden_size = hidden_size\n",
        "     self.output_size = output_size\n",
        "\n",
        "     self.conv1 = GCNConv(input_size, hidden_size)\n",
        "     self.bn1 = BatchNorm1d(hidden_size)\n",
        "     self.conv2 = GCNConv(hidden_size, hidden_size)\n",
        "     \n",
        "     self.lin = torch.nn.Linear(hidden_size, output_size)\n",
        "\n",
        "  def forward(self, x, edge_index):\n",
        "\n",
        "     x = self.conv1(x, edge_index)\n",
        "     x = F.relu(self.bn1(x))\n",
        "     x = F.dropout(x, 0.2, training=self.training)\n",
        "    \n",
        "     x = self.conv2(x, edge_index)\n",
        "     x = F.relu(x)\n",
        "     x = F.dropout(x, 0.2, training=self.training)\n",
        "\n",
        "     x = self.lin(x)\n",
        "\n",
        "     x = F.softmax(x, dim = 1)\n",
        "\n",
        "     return x"
      ],
      "metadata": {
        "id": "Z4WjEe5CPton"
      },
      "execution_count": 62,
      "outputs": []
    },
    {
      "cell_type": "code",
      "source": [
        "model_gcn = GCN(dataset.num_features, 32, dataset.num_classes)\n",
        "print(model_gcn)"
      ],
      "metadata": {
        "colab": {
          "base_uri": "https://localhost:8080/"
        },
        "id": "bWIc1JAXRbwq",
        "outputId": "9d76260d-2ef8-4251-e0db-19c40323b0d0"
      },
      "execution_count": 53,
      "outputs": [
        {
          "output_type": "stream",
          "name": "stdout",
          "text": [
            "GCN(\n",
            "  (conv1): GCNConv(1433, 32)\n",
            "  (conv2): GCNConv(32, 32)\n",
            "  (lin): Linear(in_features=32, out_features=7, bias=True)\n",
            ")\n"
          ]
        }
      ]
    },
    {
      "cell_type": "code",
      "source": [
        "model_gcn = GCN(dataset.num_features, 16, dataset.num_classes)\n",
        "\n",
        "device = torch.device(\"cuda:0\" if torch.cuda.is_available() else \"cpu\")\n",
        "model_gcn = model_gcn.to(device)\n",
        "data = data.to(device)\n",
        "\n",
        "learning_rate = 0.01\n",
        "decay = 5e-4\n",
        "optimizer = torch.optim.Adam(model_gcn.parameters(), lr=learning_rate, weight_decay=decay)\n",
        "\n",
        "criterion = torch.nn.CrossEntropyLoss()\n",
        "\n",
        "def train():\n",
        "      model_gcn.train()\n",
        "      optimizer.zero_grad() \n",
        "      out = model_gcn(data.x, data.edge_index)  \n",
        "      # we use mask cuz we want nodes with labels for loss calculation (trainable nodes)\n",
        "      loss = criterion(out[data.train_mask], data.y[data.train_mask])  \n",
        "      loss.backward() \n",
        "      optimizer.step()\n",
        "      pred = out.argmax(dim=1)\n",
        "      correct = pred[data.train_mask] == data.y[data.train_mask]\n",
        "      acc = int(correct.sum()) / int(data.train_mask.sum())\n",
        "      val_correct = pred[data.val_mask] == data.y[data.val_mask]\n",
        "      val = int(val_correct.sum()) / int(data.val_mask.sum())\n",
        "      return acc, loss, val\n",
        "\n",
        "def test_gcn():\n",
        "      model_gcn.eval()\n",
        "      out = model_gcn(data.x, data.edge_index)\n",
        "      #highest probability in the class.\n",
        "      pred = out.argmax(dim=1)  \n",
        "      # Check against ground-truth labels.\n",
        "      test_correct = pred[data.test_mask] == data.y[data.test_mask]  \n",
        "      test_acc = int(test_correct.sum()) / int(data.test_mask.sum())  \n",
        "      return test_acc\n",
        "\n",
        "losses = []\n",
        "accuracy = []\n",
        "val_accuracy = []\n",
        "for epoch in range(0, 201):\n",
        "    acc, loss, val = train()\n",
        "    losses.append(loss)\n",
        "    accuracy.append(acc)\n",
        "    val_accuracy.append(val)\n",
        "    if epoch % 10 == 0:\n",
        "      print(f'Epoch: {epoch}, Loss: {loss:.4f}, Train_acc: {acc:.4f}, val_accuracy: {val:.4f}')"
      ],
      "metadata": {
        "colab": {
          "base_uri": "https://localhost:8080/"
        },
        "id": "HjNkJXT-SR3L",
        "outputId": "f01c7db4-163d-442e-d49c-bf95df504127"
      },
      "execution_count": 89,
      "outputs": [
        {
          "output_type": "stream",
          "name": "stdout",
          "text": [
            "Epoch: 0, Loss: 1.9437, Train_acc: 0.1571, val_accuracy: 0.1440\n",
            "Epoch: 10, Loss: 1.5517, Train_acc: 0.8143, val_accuracy: 0.4980\n",
            "Epoch: 20, Loss: 1.3143, Train_acc: 0.9286, val_accuracy: 0.5860\n",
            "Epoch: 30, Loss: 1.2312, Train_acc: 0.9500, val_accuracy: 0.6240\n",
            "Epoch: 40, Loss: 1.2161, Train_acc: 0.9571, val_accuracy: 0.6440\n",
            "Epoch: 50, Loss: 1.1767, Train_acc: 0.9929, val_accuracy: 0.6400\n",
            "Epoch: 60, Loss: 1.1945, Train_acc: 0.9857, val_accuracy: 0.6780\n",
            "Epoch: 70, Loss: 1.1743, Train_acc: 1.0000, val_accuracy: 0.6680\n",
            "Epoch: 80, Loss: 1.1908, Train_acc: 0.9857, val_accuracy: 0.6920\n",
            "Epoch: 90, Loss: 1.1934, Train_acc: 0.9786, val_accuracy: 0.6980\n",
            "Epoch: 100, Loss: 1.1924, Train_acc: 0.9857, val_accuracy: 0.6340\n",
            "Epoch: 110, Loss: 1.1841, Train_acc: 0.9929, val_accuracy: 0.6300\n",
            "Epoch: 120, Loss: 1.1911, Train_acc: 0.9857, val_accuracy: 0.6420\n",
            "Epoch: 130, Loss: 1.1771, Train_acc: 0.9929, val_accuracy: 0.6680\n",
            "Epoch: 140, Loss: 1.1704, Train_acc: 1.0000, val_accuracy: 0.7100\n",
            "Epoch: 150, Loss: 1.1884, Train_acc: 0.9786, val_accuracy: 0.7040\n",
            "Epoch: 160, Loss: 1.1840, Train_acc: 0.9857, val_accuracy: 0.7000\n",
            "Epoch: 170, Loss: 1.1698, Train_acc: 1.0000, val_accuracy: 0.6780\n",
            "Epoch: 180, Loss: 1.1741, Train_acc: 0.9929, val_accuracy: 0.6640\n",
            "Epoch: 190, Loss: 1.1678, Train_acc: 1.0000, val_accuracy: 0.6740\n",
            "Epoch: 200, Loss: 1.1726, Train_acc: 1.0000, val_accuracy: 0.6900\n"
          ]
        }
      ]
    },
    {
      "cell_type": "code",
      "source": [
        "test_acc = test_gcn()\n",
        "print(f'Test Accuracy: {test_acc:.4f}')"
      ],
      "metadata": {
        "colab": {
          "base_uri": "https://localhost:8080/"
        },
        "id": "tbxPvRu3T7HP",
        "outputId": "66346698-7e58-4b39-e56d-50bfa8810849"
      },
      "execution_count": 90,
      "outputs": [
        {
          "output_type": "stream",
          "name": "stdout",
          "text": [
            "Test Accuracy: 0.7540\n"
          ]
        }
      ]
    },
    {
      "cell_type": "code",
      "source": [
        "import seaborn as sns\n",
        "losses_float = [float(loss.cpu().detach().numpy()) for loss in losses]\n",
        "loss_indices = [i for i,l in enumerate(losses_float)] \n",
        "sns.lineplot(loss_indices, losses_float)\n",
        "plt.title(\"Loss GCN\")\n",
        "plt.show()"
      ],
      "metadata": {
        "colab": {
          "base_uri": "https://localhost:8080/",
          "height": 337
        },
        "id": "gWfnOpZ_UI3v",
        "outputId": "2ad36d7f-bc10-46ca-9104-46e6cbcf4536"
      },
      "execution_count": 91,
      "outputs": [
        {
          "output_type": "stream",
          "name": "stderr",
          "text": [
            "/usr/local/lib/python3.7/dist-packages/seaborn/_decorators.py:43: FutureWarning: Pass the following variables as keyword args: x, y. From version 0.12, the only valid positional argument will be `data`, and passing other arguments without an explicit keyword will result in an error or misinterpretation.\n",
            "  FutureWarning\n"
          ]
        },
        {
          "output_type": "display_data",
          "data": {
            "text/plain": [
              "<Figure size 432x288 with 1 Axes>"
            ],
            "image/png": "[encoded data removed]"
          },
          "metadata": {
            "needs_background": "light"
          }
        }
      ]
    },
    {
      "cell_type": "code",
      "source": [
        "plt.plot(accuracy, c = 'red', label = \"train_acc\")\n",
        "plt.plot(val_accuracy, c = 'blue', label = \"val_acc\")\n",
        "plt.legend()\n",
        "plt.title(\"Accuracy-GCN\")\n",
        "plt.show()"
      ],
      "metadata": {
        "colab": {
          "base_uri": "https://localhost:8080/",
          "height": 281
        },
        "id": "xO6MP79t0TGB",
        "outputId": "a2c45437-4138-409d-e7b9-d004b333e8b4"
      },
      "execution_count": 92,
      "outputs": [
        {
          "output_type": "display_data",
          "data": {
            "text/plain": [
              "<Figure size 432x288 with 1 Axes>"
            ],
            "image/png": "[encoded data removed]"
          },
          "metadata": {
            "needs_background": "light"
          }
        }
      ]
    },
    {
      "cell_type": "code",
      "source": [
        "from torch_geometric.nn.conv import SAGEConv\n",
        "\n",
        "class GraphSAGE(torch.nn.Module):\n",
        "  def __init__(self, input_size, hidden_size, output_size):\n",
        "    super(GraphSAGE, self).__init__()\n",
        "\n",
        "    self.input_size = input_size\n",
        "    self.hidden_size = hidden_size\n",
        "    self.output_size = output_size\n",
        "\n",
        "    #default aggregarion = mean\n",
        "    self.sage1 = SAGEConv(input_size, hidden_size, normalize = True)\n",
        "    self.sage2 = SAGEConv(hidden_size, hidden_size, normalize = True)\n",
        "    self.lin = torch.nn.Linear(hidden_size, output_size)\n",
        "\n",
        "  def forward(self, x, edge_index):\n",
        "    x = self.sage1(x, edge_index)\n",
        "    x = F.relu(x)\n",
        "    x = F.dropout(x, p=0.2, training=self.training)\n",
        "    x = self.sage2(x, edge_index)\n",
        "    x = F.relu(x)\n",
        "    x = F.dropout(x, p=0.2, training=self.training)\n",
        "    x = self.lin(x)\n",
        "\n",
        "    x = F.softmax(x, dim = 1)\n",
        "\n",
        "    return x"
      ],
      "metadata": {
        "id": "FSuzw1u2iXoj"
      },
      "execution_count": 72,
      "outputs": []
    },
    {
      "cell_type": "code",
      "source": [
        "model_sage = GraphSAGE(dataset.num_features, 16, dataset.num_classes)\n",
        "print(model_sage)"
      ],
      "metadata": {
        "colab": {
          "base_uri": "https://localhost:8080/"
        },
        "id": "53ppBZRgmmbt",
        "outputId": "f1009f28-6dd7-4978-8e2d-19a442a03993"
      },
      "execution_count": 66,
      "outputs": [
        {
          "output_type": "stream",
          "name": "stdout",
          "text": [
            "GraphSAGE(\n",
            "  (sage1): SAGEConv(1433, 16, aggr=mean)\n",
            "  (sage2): SAGEConv(16, 16, aggr=mean)\n",
            "  (lin): Linear(in_features=16, out_features=7, bias=True)\n",
            ")\n"
          ]
        }
      ]
    },
    {
      "cell_type": "code",
      "source": [
        "model_sage = GraphSAGE(dataset.num_features, 26, dataset.num_classes)\n",
        "\n",
        "device = torch.device(\"cuda:0\" if torch.cuda.is_available() else \"cpu\")\n",
        "model_sage = model_sage.to(device)\n",
        "data = data.to(device)\n",
        "\n",
        "learning_rate = 0.01\n",
        "decay = 5e-4\n",
        "optimizer = torch.optim.Adam(model_sage.parameters(), lr=learning_rate, weight_decay=decay)\n",
        "\n",
        "criterion = torch.nn.CrossEntropyLoss()\n",
        "\n",
        "def train():\n",
        "      model_sage.train()\n",
        "      optimizer.zero_grad() \n",
        "      out = model_sage(data.x, data.edge_index)  \n",
        "      loss = criterion(out[data.train_mask], data.y[data.train_mask])  \n",
        "      loss.backward() \n",
        "      optimizer.step()\n",
        "      pred = out.argmax(dim=1)\n",
        "      correct = pred[data.train_mask] == data.y[data.train_mask]\n",
        "      acc = int(correct.sum()) / int(data.train_mask.sum())\n",
        "      val_correct = pred[data.val_mask] == data.y[data.val_mask]\n",
        "      val = int(val_correct.sum()) / int(data.val_mask.sum())\n",
        "      return acc, loss, val\n",
        "\n",
        "def test_sage():\n",
        "      model_sage.eval()\n",
        "      out = model_sage(data.x, data.edge_index)\n",
        "      pred = out.argmax(dim=1)  \n",
        "      test_correct = pred[data.test_mask] == data.y[data.test_mask]  \n",
        "      test_acc = int(test_correct.sum()) / int(data.test_mask.sum())  \n",
        "      return test_acc\n",
        "\n",
        "losses = []\n",
        "accuracy = []\n",
        "val_accuracy = []\n",
        "for epoch in range(0, 201):\n",
        "    acc, loss, val = train()\n",
        "    losses.append(loss)\n",
        "    accuracy.append(acc)\n",
        "    val_accuracy.append(val)\n",
        "    if epoch % 10 == 0:\n",
        "      print(f'Epoch: {epoch}, Loss: {loss:.4f}, Train_acc: {acc:.4f}, val_accuracy: {val:.4f}')"
      ],
      "metadata": {
        "colab": {
          "base_uri": "https://localhost:8080/"
        },
        "id": "XME6z91fmyud",
        "outputId": "e4e0902f-15c8-4b0b-8160-57a329c111c0"
      },
      "execution_count": 81,
      "outputs": [
        {
          "output_type": "stream",
          "name": "stdout",
          "text": [
            "Epoch: 0, Loss: 1.9465, Train_acc: 0.1143, val_accuracy: 0.1440\n",
            "Epoch: 10, Loss: 1.8748, Train_acc: 0.8857, val_accuracy: 0.4120\n",
            "Epoch: 20, Loss: 1.7887, Train_acc: 0.9786, val_accuracy: 0.6740\n",
            "Epoch: 30, Loss: 1.7059, Train_acc: 0.9929, val_accuracy: 0.7100\n",
            "Epoch: 40, Loss: 1.5850, Train_acc: 1.0000, val_accuracy: 0.7280\n",
            "Epoch: 50, Loss: 1.4756, Train_acc: 1.0000, val_accuracy: 0.7280\n",
            "Epoch: 60, Loss: 1.4031, Train_acc: 1.0000, val_accuracy: 0.7580\n",
            "Epoch: 70, Loss: 1.3362, Train_acc: 1.0000, val_accuracy: 0.7280\n",
            "Epoch: 80, Loss: 1.3061, Train_acc: 1.0000, val_accuracy: 0.7360\n",
            "Epoch: 90, Loss: 1.2819, Train_acc: 1.0000, val_accuracy: 0.7040\n",
            "Epoch: 100, Loss: 1.2722, Train_acc: 1.0000, val_accuracy: 0.7020\n",
            "Epoch: 110, Loss: 1.2626, Train_acc: 1.0000, val_accuracy: 0.7100\n",
            "Epoch: 120, Loss: 1.2481, Train_acc: 1.0000, val_accuracy: 0.7180\n",
            "Epoch: 130, Loss: 1.2412, Train_acc: 1.0000, val_accuracy: 0.7140\n",
            "Epoch: 140, Loss: 1.2350, Train_acc: 0.9929, val_accuracy: 0.6920\n",
            "Epoch: 150, Loss: 1.2324, Train_acc: 1.0000, val_accuracy: 0.7240\n",
            "Epoch: 160, Loss: 1.2242, Train_acc: 1.0000, val_accuracy: 0.7340\n",
            "Epoch: 170, Loss: 1.2164, Train_acc: 1.0000, val_accuracy: 0.7320\n",
            "Epoch: 180, Loss: 1.2094, Train_acc: 1.0000, val_accuracy: 0.7220\n",
            "Epoch: 190, Loss: 1.2219, Train_acc: 1.0000, val_accuracy: 0.7120\n",
            "Epoch: 200, Loss: 1.2196, Train_acc: 1.0000, val_accuracy: 0.7240\n"
          ]
        }
      ]
    },
    {
      "cell_type": "code",
      "source": [
        "test_acc = test_sage()\n",
        "print(f'Test Accuracy: {test_acc:.4f}')"
      ],
      "metadata": {
        "colab": {
          "base_uri": "https://localhost:8080/"
        },
        "id": "_Pgqdji5oBfo",
        "outputId": "3af718a5-0184-4678-9d0e-2f3bb02cc531"
      },
      "execution_count": 86,
      "outputs": [
        {
          "output_type": "stream",
          "name": "stdout",
          "text": [
            "Test Accuracy: 0.7840\n"
          ]
        }
      ]
    },
    {
      "cell_type": "code",
      "source": [
        "losses_float = [float(loss.cpu().detach().numpy()) for loss in losses]\n",
        "loss_indices = [i for i,l in enumerate(losses_float)] \n",
        "sns.lineplot(loss_indices, losses_float)\n",
        "plt.title(\"Loss GraphSAGE\")\n",
        "plt.show()"
      ],
      "metadata": {
        "colab": {
          "base_uri": "https://localhost:8080/",
          "height": 337
        },
        "id": "C3agfXf6pH5s",
        "outputId": "10a0c2fa-6af5-4494-e641-dd29ed62d0f8"
      },
      "execution_count": 87,
      "outputs": [
        {
          "output_type": "stream",
          "name": "stderr",
          "text": [
            "/usr/local/lib/python3.7/dist-packages/seaborn/_decorators.py:43: FutureWarning: Pass the following variables as keyword args: x, y. From version 0.12, the only valid positional argument will be `data`, and passing other arguments without an explicit keyword will result in an error or misinterpretation.\n",
            "  FutureWarning\n"
          ]
        },
        {
          "output_type": "display_data",
          "data": {
            "text/plain": [
              "<Figure size 432x288 with 1 Axes>"
            ],
            "image/png": "[encoded data removed]"
          },
          "metadata": {
            "needs_background": "light"
          }
        }
      ]
    },
    {
      "cell_type": "code",
      "source": [
        "plt.plot(accuracy, c = 'red', label = \"train_acc\")\n",
        "plt.plot(val_accuracy, c = 'blue', label = \"val_acc\")\n",
        "plt.legend()\n",
        "plt.title(\"Accuracy-GraphSAGE\")\n",
        "plt.show()"
      ],
      "metadata": {
        "colab": {
          "base_uri": "https://localhost:8080/",
          "height": 281
        },
        "id": "zG1q785FzABF",
        "outputId": "95412b67-9ed2-495d-b20f-5161a0b7834e"
      },
      "execution_count": 88,
      "outputs": [
        {
          "output_type": "display_data",
          "data": {
            "text/plain": [
              "<Figure size 432x288 with 1 Axes>"
            ],
            "image/png": "[encoded data removed]"
          },
          "metadata": {
            "needs_background": "light"
          }
        }
      ]
    },
    {
      "cell_type": "markdown",
      "source": [
        "It was shown that for the given problem, GraphSAGE outperformed MLP and GCN in predicting the test data, achieving 78% accuracy compared to 75% and 59%, respectively.\n",
        "\n",
        "For improving performance, approaches such as hyperparameter tuning, cross-validation, and other GNN methods can be implemented."
      ],
      "metadata": {
        "id": "mWfUNR1L1Kv_"
      }
    }
  ]
}