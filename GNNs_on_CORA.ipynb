{
  "nbformat": 4,
  "nbformat_minor": 0,
  "metadata": {
    "colab": {
      "provenance": [],
      "authorship_tag": "ABX9TyPrU4n4o1d7DW5TvOcEq9zA",
      "include_colab_link": true
    },
    "kernelspec": {
      "name": "python3",
      "display_name": "Python 3"
    },
    "language_info": {
      "name": "python"
    }
  },
  "cells": [
    {
      "cell_type": "markdown",
      "metadata": {
        "id": "view-in-github",
        "colab_type": "text"
      },
      "source": [
        "<a href=\"https://colab.research.google.com/github/Danial-sb/GNNs_on_Cora/blob/main/GNNs_on_CORA.ipynb\" target=\"_parent\"><img src=\"https://colab.research.google.com/assets/colab-badge.svg\" alt=\"Open In Colab\"/></a>"
      ]
    },
    {
      "cell_type": "markdown",
      "source": [
        "The objective of this notebook is to perform three models (**MLP**, **GCN**, **and GraphSAGE**) \n",
        "using the Cora dataset for node prediction. As a result, we will be able to observe that applying graph neural networks yields much higher accuracy than simply using MLPs."
      ],
      "metadata": {
        "id": "aqPDDQguDf6Y"
      }
    },
    {
      "cell_type": "markdown",
      "source": [
        "### **What is Cora?**\n",
        "\n",
        "The Cora dataset consists of 2708 scientific publications classified into one of seven classes. The citation network consists of 5429 links. Each publication in the dataset is described by a 0/1-valued word vector indicating the absence/presence of the corresponding word from the dictionary. The dictionary consists of 1433 unique words.\n",
        "\n",
        "- Nodes = Publications\n",
        "- Edges = Citations\n",
        "- Node Features = word vectors (Bag of Words)\n",
        "- 7 Labels = Pubilcation type\n",
        "\n",
        "###### Source: https://paperswithcode.com/dataset/cora"
      ],
      "metadata": {
        "id": "C2hklosREEcS"
      }
    },
    {
      "cell_type": "code",
      "source": [
        "import torch\n",
        "import torch.nn.functional as F\n",
        "import matplotlib.pyplot as plt\n",
        "print(torch.__version__)"
      ],
      "metadata": {
        "colab": {
          "base_uri": "https://localhost:8080/"
        },
        "id": "JVH7ucpQEdLt",
        "outputId": "8dc9ddf7-d87e-4d74-d3d8-479f62b251e5"
      },
      "execution_count": 1,
      "outputs": [
        {
          "output_type": "stream",
          "name": "stdout",
          "text": [
            "1.12.1+cu113\n"
          ]
        }
      ]
    },
    {
      "cell_type": "code",
      "source": [
        "!pip install -q torch-scatter -f https://data.pyg.org/whl/torch-1.12.1+cu113.html\n",
        "!pip install -q torch-sparse -f https://data.pyg.org/whl/torch-1.12.1+cu113.html\n",
        "!pip install -q git+https://github.com/pyg-team/pytorch_geometric.git"
      ],
      "metadata": {
        "colab": {
          "base_uri": "https://localhost:8080/"
        },
        "id": "0n2ySpndEwK0",
        "outputId": "ec278ecd-c326-4782-a7a2-2bb17b837a53"
      },
      "execution_count": 2,
      "outputs": [
        {
          "output_type": "stream",
          "name": "stdout",
          "text": [
            "\u001b[K     |████████████████████████████████| 7.9 MB 17.4 MB/s \n",
            "\u001b[K     |████████████████████████████████| 3.5 MB 12.3 MB/s \n",
            "\u001b[?25h  Building wheel for torch-geometric (setup.py) ... \u001b[?25l\u001b[?25hdone\n"
          ]
        }
      ]
    },
    {
      "cell_type": "code",
      "source": [
        "from torch_geometric.datasets import Planetoid\n",
        "from torch_geometric.transforms import NormalizeFeatures\n",
        "\n",
        "dataset = Planetoid(root='./Planetoid', name='Cora', transform=NormalizeFeatures())"
      ],
      "metadata": {
        "colab": {
          "base_uri": "https://localhost:8080/"
        },
        "id": "GJonp1agE51R",
        "outputId": "8fe4afbf-8428-475d-b4c9-1f1d5d938815"
      },
      "execution_count": 3,
      "outputs": [
        {
          "output_type": "stream",
          "name": "stderr",
          "text": [
            "Downloading https://github.com/kimiyoung/planetoid/raw/master/data/ind.cora.x\n",
            "Downloading https://github.com/kimiyoung/planetoid/raw/master/data/ind.cora.tx\n",
            "Downloading https://github.com/kimiyoung/planetoid/raw/master/data/ind.cora.allx\n",
            "Downloading https://github.com/kimiyoung/planetoid/raw/master/data/ind.cora.y\n",
            "Downloading https://github.com/kimiyoung/planetoid/raw/master/data/ind.cora.ty\n",
            "Downloading https://github.com/kimiyoung/planetoid/raw/master/data/ind.cora.ally\n",
            "Downloading https://github.com/kimiyoung/planetoid/raw/master/data/ind.cora.graph\n",
            "Downloading https://github.com/kimiyoung/planetoid/raw/master/data/ind.cora.test.index\n",
            "Processing...\n",
            "Done!\n"
          ]
        }
      ]
    },
    {
      "cell_type": "code",
      "source": [
        "print(f'Number of graphs in the dataset: {len(dataset)}')\n",
        "print(f'Number of features in the dataset: {dataset.num_features}')\n",
        "print(f'Number of classes in the dataset: {dataset.num_classes}')"
      ],
      "metadata": {
        "colab": {
          "base_uri": "https://localhost:8080/"
        },
        "id": "PaoUptIsGUQ0",
        "outputId": "df35320c-180d-477f-e405-d3e42f3bcbc7"
      },
      "execution_count": 4,
      "outputs": [
        {
          "output_type": "stream",
          "name": "stdout",
          "text": [
            "Number of graphs in the dataset: 1\n",
            "Number of features in the dataset: 1433\n",
            "Number of classes in the dataset: 7\n"
          ]
        }
      ]
    },
    {
      "cell_type": "code",
      "source": [
        "data = dataset[0]\n",
        "\n",
        "print(data)\n",
        "print(f'Number of nodes: {data.num_nodes}')\n",
        "print(f'Number of edges: {data.num_edges}')\n",
        "print(f'Number of nodes that will be trained: {data.train_mask.sum()}')  #Available nodes for training.\n",
        "print(f'{data.train_mask.sum()} out of {data.num_nodes} are trainable.')"
      ],
      "metadata": {
        "colab": {
          "base_uri": "https://localhost:8080/"
        },
        "id": "Ww3S-bU6HV0l",
        "outputId": "48742b05-1995-4168-e7fa-1443710788a7"
      },
      "execution_count": 5,
      "outputs": [
        {
          "output_type": "stream",
          "name": "stdout",
          "text": [
            "Data(x=[2708, 1433], edge_index=[2, 10556], y=[2708], train_mask=[2708], val_mask=[2708], test_mask=[2708])\n",
            "Number of nodes: 2708\n",
            "Number of edges: 10556\n",
            "Number of nodes that will be trained: 140\n",
            "140 out of 2708 are trainable.\n"
          ]
        }
      ]
    },
    {
      "cell_type": "code",
      "source": [
        "data.x[0, :50]"
      ],
      "metadata": {
        "colab": {
          "base_uri": "https://localhost:8080/"
        },
        "id": "y7QS5kq7Jwqq",
        "outputId": "9654f986-4d2a-41cb-bcca-20934401ec0c"
      },
      "execution_count": null,
      "outputs": [
        {
          "output_type": "execute_result",
          "data": {
            "text/plain": [
              "tensor([0.0000, 0.0000, 0.0000, 0.0000, 0.0000, 0.0000, 0.0000, 0.0000, 0.0000,\n",
              "        0.0000, 0.0000, 0.0000, 0.0000, 0.0000, 0.0000, 0.0000, 0.0000, 0.0000,\n",
              "        0.0000, 0.1111, 0.0000, 0.0000, 0.0000, 0.0000, 0.0000, 0.0000, 0.0000,\n",
              "        0.0000, 0.0000, 0.0000, 0.0000, 0.0000, 0.0000, 0.0000, 0.0000, 0.0000,\n",
              "        0.0000, 0.0000, 0.0000, 0.0000, 0.0000, 0.0000, 0.0000, 0.0000, 0.0000,\n",
              "        0.0000, 0.0000, 0.0000, 0.0000, 0.0000])"
            ]
          },
          "metadata": {},
          "execution_count": 6
        }
      ]
    },
    {
      "cell_type": "code",
      "source": [
        "data.y"
      ],
      "metadata": {
        "colab": {
          "base_uri": "https://localhost:8080/"
        },
        "id": "9psI31NOKaca",
        "outputId": "9979de4b-ba44-4d05-8115-683031c9510a"
      },
      "execution_count": null,
      "outputs": [
        {
          "output_type": "execute_result",
          "data": {
            "text/plain": [
              "tensor([3, 4, 4,  ..., 3, 3, 3])"
            ]
          },
          "metadata": {},
          "execution_count": 7
        }
      ]
    },
    {
      "cell_type": "code",
      "source": [
        "#adjacency information\n",
        "data.edge_index.t()"
      ],
      "metadata": {
        "colab": {
          "base_uri": "https://localhost:8080/"
        },
        "id": "KbI2AvlpL2BL",
        "outputId": "5fa0ff77-9367-4426-f0eb-49ec4ace4302"
      },
      "execution_count": null,
      "outputs": [
        {
          "output_type": "execute_result",
          "data": {
            "text/plain": [
              "tensor([[   0,  633],\n",
              "        [   0, 1862],\n",
              "        [   0, 2582],\n",
              "        ...,\n",
              "        [2707,  598],\n",
              "        [2707, 1473],\n",
              "        [2707, 2706]])"
            ]
          },
          "metadata": {},
          "execution_count": 8
        }
      ]
    },
    {
      "cell_type": "code",
      "source": [
        "class MLP(torch.nn.Module):\n",
        "  def __init__(self, input_size, hidden_size, output_size):\n",
        "    super(MLP, self).__init__()\n",
        "\n",
        "    self.input_size = input_size\n",
        "    self.hidden_size = hidden_size\n",
        "    self.output_size = output_size\n",
        "\n",
        "    self.lin1 = torch.nn.Linear(input_size, hidden_size)\n",
        "    self.lin2 = torch.nn.Linear(hidden_size, output_size)\n",
        "\n",
        "  def forward(self, x):\n",
        "    x = self.lin1(x)\n",
        "    x = F.relu(x)\n",
        "    x = F.dropout(x, p=0.2, training=self.training)\n",
        "    x = self.lin2(x)\n",
        "\n",
        "    return x"
      ],
      "metadata": {
        "id": "yKn_syzHMgHF"
      },
      "execution_count": 6,
      "outputs": []
    },
    {
      "cell_type": "code",
      "source": [
        "model_mlp = MLP(dataset.num_features, 32, dataset.num_classes)\n",
        "print(model_mlp)"
      ],
      "metadata": {
        "colab": {
          "base_uri": "https://localhost:8080/"
        },
        "id": "THrpXG_9Pc9c",
        "outputId": "f9cb9c4b-7333-44f1-ee33-0f12b128bf90"
      },
      "execution_count": 7,
      "outputs": [
        {
          "output_type": "stream",
          "name": "stdout",
          "text": [
            "MLP(\n",
            "  (lin1): Linear(in_features=1433, out_features=32, bias=True)\n",
            "  (lin2): Linear(in_features=32, out_features=7, bias=True)\n",
            ")\n"
          ]
        }
      ]
    },
    {
      "cell_type": "code",
      "source": [
        "model_mlp = MLP(dataset.num_features, 32, dataset.num_classes)\n",
        "criterion = torch.nn.CrossEntropyLoss()\n",
        "optimizer = torch.optim.Adam(model_mlp.parameters(), lr=0.005, weight_decay=5e-4)\n",
        "\n",
        "def train():\n",
        "      model_mlp.train()\n",
        "      optimizer.zero_grad()\n",
        "      out = model_mlp(data.x)\n",
        "      # Compute loss on trainable nodes (mask)\n",
        "      loss = criterion(out[data.train_mask], data.y[data.train_mask])\n",
        "      loss.backward()\n",
        "      optimizer.step()\n",
        "      pred = out.argmax(dim=1)\n",
        "      correct = pred[data.train_mask] == data.y[data.train_mask]\n",
        "      acc = int(correct.sum()) / int(data.train_mask.sum())\n",
        "      return acc, loss\n",
        "\n",
        "@torch.no_grad()\n",
        "def validation():\n",
        "      model_mlp.eval()\n",
        "      out = model_mlp(data.x)\n",
        "      loss = criterion(out[data.val_mask], data.y[data.val_mask])\n",
        "      pred = out.argmax(dim=1)\n",
        "      val_correct = pred[data.val_mask] == data.y[data.val_mask]\n",
        "      val_acc = int(val_correct.sum()) / int(data.val_mask.sum())\n",
        "      return val_acc, loss\n",
        "\n",
        "losses = []\n",
        "accuracy = []\n",
        "val_accuracy = []\n",
        "val_losses = []\n",
        "for epoch in range(0, 251):\n",
        "    acc, loss = train()\n",
        "    losses.append(loss)\n",
        "    accuracy.append(acc)\n",
        "    val, val_loss = validation()\n",
        "    val_accuracy.append(val)\n",
        "    val_losses.append(val_loss)\n",
        "    if epoch % 10 == 0:\n",
        "      print(f'Epoch: {epoch}, Loss: {loss:.4f}, Train_acc: {acc:.4f}, val_accuracy: {val:.4f}, val_loss: {val_loss:.4f}')"
      ],
      "metadata": {
        "colab": {
          "base_uri": "https://localhost:8080/"
        },
        "id": "ER4QzlaVOPoV",
        "outputId": "b9cf228c-28a7-4757-b453-049e4f814c3a"
      },
      "execution_count": 56,
      "outputs": [
        {
          "output_type": "stream",
          "name": "stdout",
          "text": [
            "Epoch: 0, Loss: 1.9503, Train_acc: 0.1429, val_accuracy: 0.1560, val_loss: 1.9649\n",
            "Epoch: 10, Loss: 1.9030, Train_acc: 0.2500, val_accuracy: 0.1560, val_loss: 1.9445\n",
            "Epoch: 20, Loss: 1.8082, Train_acc: 0.8571, val_accuracy: 0.2380, val_loss: 1.9130\n",
            "Epoch: 30, Loss: 1.6509, Train_acc: 0.9929, val_accuracy: 0.4680, val_loss: 1.8726\n",
            "Epoch: 40, Loss: 1.4366, Train_acc: 0.9857, val_accuracy: 0.5040, val_loss: 1.8215\n",
            "Epoch: 50, Loss: 1.2156, Train_acc: 0.9786, val_accuracy: 0.5480, val_loss: 1.7596\n",
            "Epoch: 60, Loss: 0.9382, Train_acc: 0.9786, val_accuracy: 0.5560, val_loss: 1.6917\n",
            "Epoch: 70, Loss: 0.7262, Train_acc: 1.0000, val_accuracy: 0.5540, val_loss: 1.6251\n",
            "Epoch: 80, Loss: 0.5633, Train_acc: 0.9929, val_accuracy: 0.5620, val_loss: 1.5615\n",
            "Epoch: 90, Loss: 0.4677, Train_acc: 1.0000, val_accuracy: 0.5600, val_loss: 1.5191\n",
            "Epoch: 100, Loss: 0.3606, Train_acc: 1.0000, val_accuracy: 0.5800, val_loss: 1.4801\n",
            "Epoch: 110, Loss: 0.3491, Train_acc: 1.0000, val_accuracy: 0.5800, val_loss: 1.4532\n",
            "Epoch: 120, Loss: 0.3041, Train_acc: 1.0000, val_accuracy: 0.5880, val_loss: 1.4367\n",
            "Epoch: 130, Loss: 0.2716, Train_acc: 1.0000, val_accuracy: 0.5880, val_loss: 1.4177\n",
            "Epoch: 140, Loss: 0.2604, Train_acc: 1.0000, val_accuracy: 0.5820, val_loss: 1.4023\n",
            "Epoch: 150, Loss: 0.2367, Train_acc: 1.0000, val_accuracy: 0.5880, val_loss: 1.3849\n",
            "Epoch: 160, Loss: 0.2002, Train_acc: 1.0000, val_accuracy: 0.5900, val_loss: 1.3740\n",
            "Epoch: 170, Loss: 0.2028, Train_acc: 1.0000, val_accuracy: 0.5900, val_loss: 1.3650\n",
            "Epoch: 180, Loss: 0.1805, Train_acc: 1.0000, val_accuracy: 0.5900, val_loss: 1.3577\n",
            "Epoch: 190, Loss: 0.1801, Train_acc: 1.0000, val_accuracy: 0.5920, val_loss: 1.3445\n",
            "Epoch: 200, Loss: 0.1778, Train_acc: 1.0000, val_accuracy: 0.5900, val_loss: 1.3364\n",
            "Epoch: 210, Loss: 0.1768, Train_acc: 1.0000, val_accuracy: 0.5820, val_loss: 1.3370\n",
            "Epoch: 220, Loss: 0.1716, Train_acc: 1.0000, val_accuracy: 0.5780, val_loss: 1.3330\n",
            "Epoch: 230, Loss: 0.1619, Train_acc: 1.0000, val_accuracy: 0.5780, val_loss: 1.3309\n",
            "Epoch: 240, Loss: 0.1512, Train_acc: 1.0000, val_accuracy: 0.5840, val_loss: 1.3184\n",
            "Epoch: 250, Loss: 0.1317, Train_acc: 1.0000, val_accuracy: 0.5860, val_loss: 1.3113\n"
          ]
        }
      ]
    },
    {
      "cell_type": "code",
      "source": [
        "losses_float = [float(loss.cpu().detach().numpy()) for loss in losses]\n",
        "loss_indices = [i for i,l in enumerate(losses_float)]"
      ],
      "metadata": {
        "id": "bIGxvFquuPK2"
      },
      "execution_count": 57,
      "outputs": []
    },
    {
      "cell_type": "code",
      "source": [
        "plt.plot(val_losses, c = 'red', label = 'val_loss')\n",
        "plt.plot(losses_float, c = 'blue', label = 'train_loss')\n",
        "plt.legend()\n",
        "plt.title(\"Loss_MLP\")\n",
        "plt.show()"
      ],
      "metadata": {
        "id": "sPqSH8AqYaqW",
        "outputId": "aa7c8de1-e138-4a84-c67a-9a279db58961",
        "colab": {
          "base_uri": "https://localhost:8080/",
          "height": 281
        }
      },
      "execution_count": 58,
      "outputs": [
        {
          "output_type": "display_data",
          "data": {
            "text/plain": [
              "<Figure size 432x288 with 1 Axes>"
            ],
            "image/png": "[encoded data removed]"
          },
          "metadata": {
            "needs_background": "light"
          }
        }
      ]
    },
    {
      "cell_type": "code",
      "source": [
        "plt.plot(accuracy, c = 'red', label = \"train_acc\")\n",
        "plt.plot(val_accuracy, c = 'blue', label = \"val_acc\")\n",
        "plt.legend()\n",
        "plt.title(\"Accuracy_MLP\")\n",
        "plt.show()"
      ],
      "metadata": {
        "colab": {
          "base_uri": "https://localhost:8080/",
          "height": 281
        },
        "id": "gcsF5kaJ03ua",
        "outputId": "b8eb1088-b32e-4c99-cf7f-e3a45cc4949a"
      },
      "execution_count": 59,
      "outputs": [
        {
          "output_type": "display_data",
          "data": {
            "text/plain": [
              "<Figure size 432x288 with 1 Axes>"
            ],
            "image/png": "[encoded data removed]"
          },
          "metadata": {
            "needs_background": "light"
          }
        }
      ]
    },
    {
      "cell_type": "code",
      "source": [
        "from torch_geometric.nn.conv.gcn_conv import GCNConv\n",
        "from torch.nn import BatchNorm1d\n",
        "\n",
        "class GCN(torch.nn.Module):\n",
        "  def __init__(self, input_size, hidden_size, output_size):\n",
        "     super(GCN, self).__init__()\n",
        "     \n",
        "     self.input_size = input_size\n",
        "     self.hidden_size = hidden_size\n",
        "     self.output_size = output_size\n",
        "\n",
        "     self.conv1 = GCNConv(input_size, hidden_size)\n",
        "     self.bn1 = BatchNorm1d(hidden_size)\n",
        "     self.conv2 = GCNConv(hidden_size, hidden_size)\n",
        "     \n",
        "     self.lin = torch.nn.Linear(hidden_size, output_size)\n",
        "\n",
        "  def forward(self, x, edge_index):\n",
        "\n",
        "     x = self.conv1(x, edge_index)\n",
        "     x = F.relu(self.bn1(x))\n",
        "     x = F.dropout(x, 0.2, training=self.training)\n",
        "    \n",
        "     x = self.conv2(x, edge_index)\n",
        "     x = F.relu(x)\n",
        "     x = F.dropout(x, 0.2, training=self.training)\n",
        "\n",
        "     x = self.lin(x)\n",
        "\n",
        "     x = F.softmax(x, dim = 1)\n",
        "\n",
        "     return x"
      ],
      "metadata": {
        "id": "Z4WjEe5CPton"
      },
      "execution_count": 12,
      "outputs": []
    },
    {
      "cell_type": "code",
      "source": [
        "model_gcn = GCN(dataset.num_features, 32, dataset.num_classes)\n",
        "print(model_gcn)"
      ],
      "metadata": {
        "colab": {
          "base_uri": "https://localhost:8080/"
        },
        "id": "bWIc1JAXRbwq",
        "outputId": "ad922ea9-2935-44ac-ea3d-90b5b71b401c"
      },
      "execution_count": 13,
      "outputs": [
        {
          "output_type": "stream",
          "name": "stdout",
          "text": [
            "GCN(\n",
            "  (conv1): GCNConv(1433, 32)\n",
            "  (bn1): BatchNorm1d(32, eps=1e-05, momentum=0.1, affine=True, track_running_stats=True)\n",
            "  (conv2): GCNConv(32, 32)\n",
            "  (lin): Linear(in_features=32, out_features=7, bias=True)\n",
            ")\n"
          ]
        }
      ]
    },
    {
      "cell_type": "code",
      "source": [
        "model_gcn = GCN(dataset.num_features, 16, dataset.num_classes)\n",
        "\n",
        "device = torch.device(\"cuda:0\" if torch.cuda.is_available() else \"cpu\")\n",
        "model_gcn = model_gcn.to(device)\n",
        "data = data.to(device)\n",
        "\n",
        "learning_rate = 0.005\n",
        "decay = 5e-4\n",
        "optimizer = torch.optim.Adam(model_gcn.parameters(), lr=learning_rate, weight_decay=decay)\n",
        "\n",
        "criterion = torch.nn.CrossEntropyLoss()\n",
        "\n",
        "def train():\n",
        "      model_gcn.train()\n",
        "      optimizer.zero_grad() \n",
        "      out = model_gcn(data.x, data.edge_index)  \n",
        "      # we use mask cuz we want nodes with labels for loss calculation (trainable nodes)\n",
        "      loss = criterion(out[data.train_mask], data.y[data.train_mask])  \n",
        "      loss.backward() \n",
        "      optimizer.step()\n",
        "      pred = out.argmax(dim=1)\n",
        "      correct = pred[data.train_mask] == data.y[data.train_mask]\n",
        "      acc = int(correct.sum()) / int(data.train_mask.sum())\n",
        "      return acc, loss\n",
        "@torch.no_grad()\n",
        "def validation_gcn():\n",
        "      model_gcn.eval()\n",
        "      out = model_gcn(data.x, data.edge_index)\n",
        "      loss = criterion(out[data.val_mask], data.y[data.val_mask])\n",
        "      #highest probability in the class.\n",
        "      pred = out.argmax(dim=1)\n",
        "      # Check against ground-truth labels.\n",
        "      val_correct = pred[data.val_mask] == data.y[data.val_mask]  \n",
        "      val_acc = int(val_correct.sum()) / int(data.val_mask.sum())  \n",
        "      return val_acc, loss\n",
        "\n",
        "losses = []\n",
        "accuracy = []\n",
        "val_accuracy = []\n",
        "val_losses = []\n",
        "for epoch in range(0, 251):\n",
        "    acc, loss = train()\n",
        "    losses.append(loss)\n",
        "    accuracy.append(acc)\n",
        "    val, val_loss = validation_gcn()\n",
        "    val_accuracy.append(val)\n",
        "    val_losses.append(val_loss)\n",
        "    if epoch % 10 == 0:\n",
        "      print(f'Epoch: {epoch}, Loss: {loss:.4f}, Train_acc: {acc:.4f}, val_accuracy: {val:.4f}, val_loss: {val_loss:.4f}')"
      ],
      "metadata": {
        "colab": {
          "base_uri": "https://localhost:8080/"
        },
        "id": "HjNkJXT-SR3L",
        "outputId": "eab37b4c-cacd-490f-ddfd-bfd6b6208d5a"
      },
      "execution_count": 51,
      "outputs": [
        {
          "output_type": "stream",
          "name": "stdout",
          "text": [
            "Epoch: 0, Loss: 1.9494, Train_acc: 0.1500, val_accuracy: 0.1040, val_loss: 1.9482\n",
            "Epoch: 10, Loss: 1.7068, Train_acc: 0.6357, val_accuracy: 0.1780, val_loss: 1.9477\n",
            "Epoch: 20, Loss: 1.5404, Train_acc: 0.6571, val_accuracy: 0.1640, val_loss: 1.9444\n",
            "Epoch: 30, Loss: 1.4161, Train_acc: 0.8714, val_accuracy: 0.3440, val_loss: 1.9315\n",
            "Epoch: 40, Loss: 1.3712, Train_acc: 0.8929, val_accuracy: 0.4140, val_loss: 1.9040\n",
            "Epoch: 50, Loss: 1.3194, Train_acc: 0.9429, val_accuracy: 0.6280, val_loss: 1.8511\n",
            "Epoch: 60, Loss: 1.2953, Train_acc: 0.9643, val_accuracy: 0.6640, val_loss: 1.7746\n",
            "Epoch: 70, Loss: 1.2665, Train_acc: 0.9571, val_accuracy: 0.6860, val_loss: 1.6995\n",
            "Epoch: 80, Loss: 1.2378, Train_acc: 0.9500, val_accuracy: 0.6760, val_loss: 1.6287\n",
            "Epoch: 90, Loss: 1.1938, Train_acc: 0.9786, val_accuracy: 0.6880, val_loss: 1.5703\n",
            "Epoch: 100, Loss: 1.1951, Train_acc: 0.9714, val_accuracy: 0.7020, val_loss: 1.5401\n",
            "Epoch: 110, Loss: 1.1895, Train_acc: 0.9857, val_accuracy: 0.7140, val_loss: 1.5249\n",
            "Epoch: 120, Loss: 1.1904, Train_acc: 0.9786, val_accuracy: 0.7100, val_loss: 1.5181\n",
            "Epoch: 130, Loss: 1.1822, Train_acc: 0.9929, val_accuracy: 0.7000, val_loss: 1.5289\n",
            "Epoch: 140, Loss: 1.1758, Train_acc: 0.9929, val_accuracy: 0.6960, val_loss: 1.5241\n",
            "Epoch: 150, Loss: 1.1835, Train_acc: 0.9929, val_accuracy: 0.7080, val_loss: 1.5042\n",
            "Epoch: 160, Loss: 1.1795, Train_acc: 0.9857, val_accuracy: 0.7160, val_loss: 1.4874\n",
            "Epoch: 170, Loss: 1.1826, Train_acc: 0.9929, val_accuracy: 0.7080, val_loss: 1.5060\n",
            "Epoch: 180, Loss: 1.1735, Train_acc: 0.9929, val_accuracy: 0.7040, val_loss: 1.5012\n",
            "Epoch: 190, Loss: 1.1784, Train_acc: 0.9929, val_accuracy: 0.6860, val_loss: 1.5183\n",
            "Epoch: 200, Loss: 1.1768, Train_acc: 1.0000, val_accuracy: 0.6560, val_loss: 1.5295\n",
            "Epoch: 210, Loss: 1.1728, Train_acc: 1.0000, val_accuracy: 0.6440, val_loss: 1.5406\n",
            "Epoch: 220, Loss: 1.1760, Train_acc: 0.9929, val_accuracy: 0.7060, val_loss: 1.5075\n",
            "Epoch: 230, Loss: 1.1785, Train_acc: 0.9929, val_accuracy: 0.6920, val_loss: 1.4997\n",
            "Epoch: 240, Loss: 1.1767, Train_acc: 0.9929, val_accuracy: 0.7160, val_loss: 1.4791\n",
            "Epoch: 250, Loss: 1.1741, Train_acc: 0.9929, val_accuracy: 0.7120, val_loss: 1.4855\n"
          ]
        }
      ]
    },
    {
      "cell_type": "code",
      "source": [
        "import seaborn as sns\n",
        "losses_float = [float(loss.cpu().detach().numpy()) for loss in losses]\n",
        "loss_indices = [i for i,l in enumerate(losses_float)] "
      ],
      "metadata": {
        "id": "gWfnOpZ_UI3v"
      },
      "execution_count": 52,
      "outputs": []
    },
    {
      "cell_type": "code",
      "source": [
        "plt.plot(val_losses, c = 'red', label = 'val_loss')\n",
        "plt.plot(losses_float, c = 'blue', label = 'train_loss')\n",
        "plt.legend()\n",
        "plt.title(\"Loss_GCN\")\n",
        "plt.show()"
      ],
      "metadata": {
        "id": "YaUAIZp4X0dW",
        "outputId": "1417bc7a-1e45-4a0b-f182-e5a7ea2dd3d8",
        "colab": {
          "base_uri": "https://localhost:8080/",
          "height": 281
        }
      },
      "execution_count": 53,
      "outputs": [
        {
          "output_type": "display_data",
          "data": {
            "text/plain": [
              "<Figure size 432x288 with 1 Axes>"
            ],
            "image/png": "[encoded data removed]"
          },
          "metadata": {
            "needs_background": "light"
          }
        }
      ]
    },
    {
      "cell_type": "code",
      "source": [
        "plt.plot(accuracy, c = 'red', label = \"train_acc\")\n",
        "plt.plot(val_accuracy, c = 'blue', label = \"val_acc\")\n",
        "plt.legend()\n",
        "plt.title(\"Accuracy-GCN\")\n",
        "plt.show()"
      ],
      "metadata": {
        "colab": {
          "base_uri": "https://localhost:8080/",
          "height": 281
        },
        "id": "xO6MP79t0TGB",
        "outputId": "814ceb2f-9a53-4223-a514-c8cda11d0913"
      },
      "execution_count": 54,
      "outputs": [
        {
          "output_type": "display_data",
          "data": {
            "text/plain": [
              "<Figure size 432x288 with 1 Axes>"
            ],
            "image/png": "[encoded data removed]"
          },
          "metadata": {
            "needs_background": "light"
          }
        }
      ]
    },
    {
      "cell_type": "code",
      "source": [
        "from torch_geometric.nn.conv import SAGEConv\n",
        "\n",
        "class GraphSAGE(torch.nn.Module):\n",
        "  def __init__(self, input_size, hidden_size, output_size):\n",
        "    super(GraphSAGE, self).__init__()\n",
        "\n",
        "    self.input_size = input_size\n",
        "    self.hidden_size = hidden_size\n",
        "    self.output_size = output_size\n",
        "\n",
        "    #default aggregarion = mean\n",
        "    self.sage1 = SAGEConv(input_size, hidden_size, normalize = True)\n",
        "    self.sage2 = SAGEConv(hidden_size, hidden_size, normalize = True)\n",
        "    self.lin = torch.nn.Linear(hidden_size, output_size)\n",
        "\n",
        "  def forward(self, x, edge_index):\n",
        "    x = self.sage1(x, edge_index)\n",
        "    x = F.relu(x)\n",
        "    x = F.dropout(x, p=0.2, training=self.training)\n",
        "    x = self.sage2(x, edge_index)\n",
        "    x = F.relu(x)\n",
        "    x = F.dropout(x, p=0.2, training=self.training)\n",
        "    x = self.lin(x)\n",
        "\n",
        "    x = F.softmax(x, dim = 1)\n",
        "\n",
        "    return x"
      ],
      "metadata": {
        "id": "FSuzw1u2iXoj"
      },
      "execution_count": 20,
      "outputs": []
    },
    {
      "cell_type": "code",
      "source": [
        "model_sage = GraphSAGE(dataset.num_features, 16, dataset.num_classes)\n",
        "print(model_sage)"
      ],
      "metadata": {
        "colab": {
          "base_uri": "https://localhost:8080/"
        },
        "id": "53ppBZRgmmbt",
        "outputId": "9f129854-718a-4489-fc7b-3343e4e0ae58"
      },
      "execution_count": 21,
      "outputs": [
        {
          "output_type": "stream",
          "name": "stdout",
          "text": [
            "GraphSAGE(\n",
            "  (sage1): SAGEConv(1433, 16, aggr=mean)\n",
            "  (sage2): SAGEConv(16, 16, aggr=mean)\n",
            "  (lin): Linear(in_features=16, out_features=7, bias=True)\n",
            ")\n"
          ]
        }
      ]
    },
    {
      "cell_type": "code",
      "source": [
        "model_sage = GraphSAGE(dataset.num_features, 32, dataset.num_classes)\n",
        "\n",
        "device = torch.device(\"cuda:0\" if torch.cuda.is_available() else \"cpu\")\n",
        "model_sage = model_sage.to(device)\n",
        "data = data.to(device)\n",
        "\n",
        "learning_rate = 0.005\n",
        "decay = 5e-4\n",
        "optimizer = torch.optim.Adam(model_sage.parameters(), lr=learning_rate, weight_decay=decay)\n",
        "\n",
        "criterion = torch.nn.CrossEntropyLoss()\n",
        "\n",
        "def train():\n",
        "      model_sage.train()\n",
        "      optimizer.zero_grad() \n",
        "      out = model_sage(data.x, data.edge_index)  \n",
        "      loss = criterion(out[data.train_mask], data.y[data.train_mask])  \n",
        "      loss.backward() \n",
        "      optimizer.step()\n",
        "      pred = out.argmax(dim=1)\n",
        "      correct = pred[data.train_mask] == data.y[data.train_mask]\n",
        "      acc = int(correct.sum()) / int(data.train_mask.sum())\n",
        "      return acc, loss\n",
        "\n",
        "@torch.no_grad()\n",
        "def validation_sage():\n",
        "      model_sage.eval()\n",
        "      out = model_sage(data.x, data.edge_index)\n",
        "      loss = criterion(out[data.val_mask], data.y[data.val_mask])\n",
        "      pred = out.argmax(dim=1)  \n",
        "      val_correct = pred[data.val_mask] == data.y[data.val_mask]  \n",
        "      val_acc = int(val_correct.sum()) / int(data.val_mask.sum())  \n",
        "      return val_acc, loss\n",
        "\n",
        "losses = []\n",
        "accuracy = []\n",
        "val_accuracy = []\n",
        "val_losses = []\n",
        "for epoch in range(0, 251):\n",
        "    acc, loss = train()\n",
        "    losses.append(loss)\n",
        "    accuracy.append(acc)\n",
        "    val, val_loss = validation_sage()\n",
        "    val_accuracy.append(val)\n",
        "    val_losses.append(val_loss)\n",
        "    if epoch % 10 == 0:\n",
        "      print(f'Epoch: {epoch}, Loss: {loss:.4f}, Train_acc: {acc:.4f}, val_accuracy: {val:.4f}, val_loss: {val_loss:.4f}')"
      ],
      "metadata": {
        "colab": {
          "base_uri": "https://localhost:8080/"
        },
        "id": "XME6z91fmyud",
        "outputId": "6ad9a765-bd40-41f7-a85f-642cf4468983"
      },
      "execution_count": 64,
      "outputs": [
        {
          "output_type": "stream",
          "name": "stdout",
          "text": [
            "Epoch: 0, Loss: 1.9455, Train_acc: 0.1500, val_accuracy: 0.1560, val_loss: 1.9419\n",
            "Epoch: 10, Loss: 1.8896, Train_acc: 0.9714, val_accuracy: 0.6900, val_loss: 1.9117\n",
            "Epoch: 20, Loss: 1.8461, Train_acc: 1.0000, val_accuracy: 0.7140, val_loss: 1.8885\n",
            "Epoch: 30, Loss: 1.7932, Train_acc: 1.0000, val_accuracy: 0.7120, val_loss: 1.8610\n",
            "Epoch: 40, Loss: 1.7390, Train_acc: 1.0000, val_accuracy: 0.7360, val_loss: 1.8246\n",
            "Epoch: 50, Loss: 1.6743, Train_acc: 1.0000, val_accuracy: 0.7460, val_loss: 1.7833\n",
            "Epoch: 60, Loss: 1.6107, Train_acc: 1.0000, val_accuracy: 0.7560, val_loss: 1.7387\n",
            "Epoch: 70, Loss: 1.5510, Train_acc: 1.0000, val_accuracy: 0.7480, val_loss: 1.6924\n",
            "Epoch: 80, Loss: 1.4918, Train_acc: 1.0000, val_accuracy: 0.7700, val_loss: 1.6517\n",
            "Epoch: 90, Loss: 1.4450, Train_acc: 1.0000, val_accuracy: 0.7560, val_loss: 1.6204\n",
            "Epoch: 100, Loss: 1.4096, Train_acc: 1.0000, val_accuracy: 0.7640, val_loss: 1.5847\n",
            "Epoch: 110, Loss: 1.3744, Train_acc: 1.0000, val_accuracy: 0.7540, val_loss: 1.5727\n",
            "Epoch: 120, Loss: 1.3486, Train_acc: 1.0000, val_accuracy: 0.7660, val_loss: 1.5358\n",
            "Epoch: 130, Loss: 1.3438, Train_acc: 1.0000, val_accuracy: 0.7520, val_loss: 1.5308\n",
            "Epoch: 140, Loss: 1.3032, Train_acc: 1.0000, val_accuracy: 0.7560, val_loss: 1.5070\n",
            "Epoch: 150, Loss: 1.2841, Train_acc: 1.0000, val_accuracy: 0.7640, val_loss: 1.4949\n",
            "Epoch: 160, Loss: 1.2739, Train_acc: 1.0000, val_accuracy: 0.7480, val_loss: 1.5006\n",
            "Epoch: 170, Loss: 1.2761, Train_acc: 1.0000, val_accuracy: 0.7280, val_loss: 1.5032\n",
            "Epoch: 180, Loss: 1.2549, Train_acc: 1.0000, val_accuracy: 0.7520, val_loss: 1.4727\n",
            "Epoch: 190, Loss: 1.2598, Train_acc: 1.0000, val_accuracy: 0.7440, val_loss: 1.4757\n",
            "Epoch: 200, Loss: 1.2592, Train_acc: 1.0000, val_accuracy: 0.7560, val_loss: 1.4610\n",
            "Epoch: 210, Loss: 1.2523, Train_acc: 1.0000, val_accuracy: 0.7480, val_loss: 1.4668\n",
            "Epoch: 220, Loss: 1.2436, Train_acc: 1.0000, val_accuracy: 0.7660, val_loss: 1.4501\n",
            "Epoch: 230, Loss: 1.2583, Train_acc: 1.0000, val_accuracy: 0.7380, val_loss: 1.4758\n",
            "Epoch: 240, Loss: 1.2293, Train_acc: 1.0000, val_accuracy: 0.7660, val_loss: 1.4518\n",
            "Epoch: 250, Loss: 1.2242, Train_acc: 1.0000, val_accuracy: 0.7500, val_loss: 1.4577\n"
          ]
        }
      ]
    },
    {
      "cell_type": "code",
      "source": [
        "losses_float = [float(loss.cpu().detach().numpy()) for loss in losses]\n",
        "loss_indices = [i for i,l in enumerate(losses_float)] \n",
        "#sns.lineplot(loss_indices, losses_float)\n",
        "#plt.title(\"Loss GraphSAGE\")\n",
        "#plt.show()"
      ],
      "metadata": {
        "id": "C3agfXf6pH5s"
      },
      "execution_count": 65,
      "outputs": []
    },
    {
      "cell_type": "code",
      "source": [
        "plt.plot(val_losses, c = 'red', label = 'val_loss')\n",
        "plt.plot(losses_float, c = 'blue', label = 'train_loss')\n",
        "plt.legend()\n",
        "plt.title(\"Loss_GraphSAGE\")\n",
        "plt.show()"
      ],
      "metadata": {
        "id": "qpjiV3ulWStd",
        "outputId": "43f53919-b632-46ff-ce3e-412f3713e916",
        "colab": {
          "base_uri": "https://localhost:8080/",
          "height": 281
        }
      },
      "execution_count": 66,
      "outputs": [
        {
          "output_type": "display_data",
          "data": {
            "text/plain": [
              "<Figure size 432x288 with 1 Axes>"
            ],
            "image/png": "[encoded data removed]"
          },
          "metadata": {
            "needs_background": "light"
          }
        }
      ]
    },
    {
      "cell_type": "code",
      "source": [
        "plt.plot(accuracy, c = 'red', label = \"train_acc\")\n",
        "plt.plot(val_accuracy, c = 'blue', label = \"val_acc\")\n",
        "plt.legend()\n",
        "plt.title(\"Accuracy-GraphSAGE\")\n",
        "plt.show()"
      ],
      "metadata": {
        "colab": {
          "base_uri": "https://localhost:8080/",
          "height": 281
        },
        "id": "zG1q785FzABF",
        "outputId": "d1c2e88f-bdd5-4c81-e91b-1e50002b623d"
      },
      "execution_count": 67,
      "outputs": [
        {
          "output_type": "display_data",
          "data": {
            "text/plain": [
              "<Figure size 432x288 with 1 Axes>"
            ],
            "image/png": "[encoded data removed]"
          },
          "metadata": {
            "needs_background": "light"
          }
        }
      ]
    },
    {
      "cell_type": "markdown",
      "source": [
        "It was shown that for the given problem, GNN models outperformed MLP regarding the performance.\n",
        "\n",
        "For improving performance, approaches such as hyperparameter tuning, adding/removing layers, and other GNN methods can be implemented."
      ],
      "metadata": {
        "id": "mWfUNR1L1Kv_"
      }
    }
  ]
}